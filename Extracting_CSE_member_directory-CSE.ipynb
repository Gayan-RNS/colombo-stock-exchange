{
 "cells": [
  {
   "cell_type": "markdown",
   "id": "b70813e0",
   "metadata": {},
   "source": [
    "## Extracting the CSE Member Directory ##"
   ]
  },
  {
   "cell_type": "code",
   "execution_count": null,
   "id": "a911fb4d",
   "metadata": {},
   "outputs": [],
   "source": [
    "from selenium import webdriver\n",
    "from selenium.webdriver.common.by import By\n",
    "from selenium.webdriver.support.ui import WebDriverWait\n",
    "from selenium.webdriver.support import expected_conditions as EC\n",
    "import pandas as pd"
   ]
  },
  {
   "cell_type": "code",
   "execution_count": null,
   "id": "510da47d",
   "metadata": {},
   "outputs": [],
   "source": [
    "# Initialize Chrome driver  \n",
    "driver = webdriver.Chrome()\n",
    "driver.get(\"https://www.cse.lk/pages/members/members.component.html\")\n",
    "\n",
    "wait = WebDriverWait(driver, 20)\n",
    "members = wait.until(EC.presence_of_all_elements_located((By.CSS_SELECTOR, \".member-block\")))\n",
    "\n",
    "data = []\n",
    "for member in members:\n",
    "    name = member.find_element(By.CSS_SELECTOR, \".member-name.detail\").text if member.find_elements(By.CSS_SELECTOR, \".member-name.detail\") else \"\"\n",
    "    address = member.find_element(By.CSS_SELECTOR, \".member-address.detail\").text if member.find_elements(By.CSS_SELECTOR, \".member-address.detail\") else \"\"\n",
    "    phone = member.find_element(By.CSS_SELECTOR, \".member-phone.detail\").text if member.find_elements(By.CSS_SELECTOR, \".member-phone.detail\") else \"\"\n",
    "    fax = member.find_element(By.CSS_SELECTOR, \".member-fax.detail\").text if member.find_elements(By.CSS_SELECTOR, \".member-fax.detail\") else \"\"\n",
    "    email = member.find_element(By.CSS_SELECTOR, \".member-email.detail\").text if member.find_elements(By.CSS_SELECTOR, \".member-email.detail\") else \"\"\n",
    "    website = member.find_element(By.CSS_SELECTOR, \".member-website.detail\").text if member.find_elements(By.CSS_SELECTOR, \".member-website.detail\") else \"\"\n",
    "\n",
    "    data.append([name, address, phone, fax, email, website,])\n",
    "\n",
    "# Build DataFrame with multiple columns\n",
    "df = pd.DataFrame(data, columns=[\n",
    "    \"Name\", \"Address\", \"Phone\", \"Fax\", \"Email\", \"Website\",\n",
    "])\n",
    "\n",
    "print(df)\n",
    "df.to_csv(\"CSE_Members.csv\", index=False)\n",
    "\n",
    "driver.quit()"
   ]
  }
 ],
 "metadata": {
  "kernelspec": {
   "display_name": "Python 3",
   "language": "python",
   "name": "python3"
  },
  "language_info": {
   "codemirror_mode": {
    "name": "ipython",
    "version": 3
   },
   "file_extension": ".py",
   "mimetype": "text/x-python",
   "name": "python",
   "nbconvert_exporter": "python",
   "pygments_lexer": "ipython3",
   "version": "3.13.1"
  }
 },
 "nbformat": 4,
 "nbformat_minor": 5
}

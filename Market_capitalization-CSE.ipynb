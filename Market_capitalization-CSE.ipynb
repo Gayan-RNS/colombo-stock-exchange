{
 "cells": [
  {
   "cell_type": "markdown",
   "id": "2a2e726c",
   "metadata": {},
   "source": [
    "## Market Capitalization - CSE ##"
   ]
  },
  {
   "cell_type": "code",
   "execution_count": 2,
   "id": "274afe80",
   "metadata": {},
   "outputs": [],
   "source": [
    "from selenium import webdriver\n",
    "from selenium.webdriver.common.by import By\n",
    "from selenium.webdriver.support.ui import WebDriverWait, Select\n",
    "from selenium.webdriver.support import expected_conditions as EC\n",
    "import time\n",
    "import pandas as pd\n",
    "import requests"
   ]
  },
  {
   "cell_type": "code",
   "execution_count": 4,
   "id": "e22585e8",
   "metadata": {},
   "outputs": [
    {
     "name": "stdout",
     "output_type": "stream",
     "text": [
      "<Response [200]>\n"
     ]
    }
   ],
   "source": [
    "url='https://www.cse.lk/pages/market-capitalization/market-capitalization.html'\n",
    "\n",
    "response=requests.get(url)\n",
    "print(response)"
   ]
  },
  {
   "cell_type": "markdown",
   "id": "2e698e5a",
   "metadata": {},
   "source": [
    "## Extraxt data into DF ##"
   ]
  },
  {
   "cell_type": "code",
   "execution_count": null,
   "id": "97726709",
   "metadata": {},
   "outputs": [
    {
     "name": "stdout",
     "output_type": "stream",
     "text": [
      "                                     Company      Sector Market Cap (RsMn)  \\\n",
      "0                      ABANS ELECTRICALS PLC  ABAN.N0000          1,080.50   \n",
      "1                          ABANS FINANCE PLC  AFSL.N0000             69.90   \n",
      "2                     ACCESS ENGINEERING PLC   AEL.N0000             61.80   \n",
      "3                             ACL CABLES PLC   ACL.N0000            197.25   \n",
      "4                           ACL PLASTICS PLC  APLA.N0000          1,240.00   \n",
      "5              ACME PRINTING & PACKAGING PLC  ACME.N0000              7.10   \n",
      "6                 AGALAWATTE PLANTATIONS PLC  AGAL.N0000             61.00   \n",
      "7                Agarapatana Plantations PLC  AGPL.N0000             23.30   \n",
      "8                                 AGSTAR PLC  AGST.N0000              9.00   \n",
      "9                                 AGSTAR PLC  AGST.X0000             11.00   \n",
      "10          AITKEN SPENCE HOTEL HOLDINGS PLC  AHUN.N0000            116.00   \n",
      "11  AITKEN SPENCE PLANTATION MANAGEMENTS PLC  ASPM.N0000              0.00   \n",
      "12                         AITKEN SPENCE PLC  SPEN.N0000            156.25   \n",
      "13              ALLIANCE FINANCE COMPANY PLC  ALLI.N0000            365.00   \n",
      "14                   ALPHA FIRE SERVICES PLC   AFS.N0000             27.10   \n",
      "15                                ALUMEX PLC  ALUM.N0000             20.80   \n",
      "16                            AMANA BANK PLC   ABL.N0000             26.00   \n",
      "17                    AMANA TAKAFUL LIFE PLC  ATLL.N0000             48.00   \n",
      "18                         AMANA TAKAFUL PLC   ATL.N0000             23.20   \n",
      "19                        AMBEON CAPITAL PLC   TAP.N0000             32.00   \n",
      "20                       AMBEON HOLDINGS PLC  GREG.N0000            119.75   \n",
      "21       AMW CAPITAL LEASING AND FINANCE PLC  AMCL.N0000             22.40   \n",
      "22         ANILANA HOTELS AND PROPERTIES PLC  ALHP.N0000              0.00   \n",
      "23                      ARPICO INSURANCE PLC  AINS.N0000             37.70   \n",
      "24                    ASIA ASSET FINANCE PLC   AAF.N0000             50.00   \n",
      "\n",
      "   Market Cap (US$Mn)  Last Traded Price Number of Shares  \n",
      "0           5,110,560   5,521,960,080.00             0.07  \n",
      "1          73,693,171   5,151,152,652.90             0.07  \n",
      "2       1,000,000,000  61,800,000,000.00             0.83  \n",
      "3         239,574,720  47,256,113,520.00             0.63  \n",
      "4           4,212,500   5,223,500,000.00             0.07  \n",
      "5          95,000,000     674,500,000.00             0.01  \n",
      "6         156,250,000   9,531,250,000.00             0.13  \n",
      "7         500,000,000  11,650,000,000.00             0.16  \n",
      "8         461,289,465   4,151,605,185.00             0.06  \n",
      "9          26,210,535     288,315,885.00             0.00  \n",
      "10        336,290,010  39,009,641,160.00             0.52  \n",
      "11         18,792,783                                0.00  \n",
      "12        405,996,045  63,436,882,031.25             0.85  \n",
      "13         33,696,000  12,299,040,000.00             0.16  \n",
      "14         37,950,000   1,028,445,000.00             0.01  \n",
      "15        598,605,680  12,450,998,144.00             0.17  \n",
      "16        551,125,746  14,329,269,396.00             0.19  \n",
      "17         50,000,000   2,400,000,000.00             0.03  \n",
      "18        203,630,643   4,724,230,917.60             0.06  \n",
      "19      1,002,724,815  32,087,194,080.00             0.43  \n",
      "20        356,869,666  42,735,142,503.50             0.57  \n",
      "21         20,000,000     448,000,000.00             0.01  \n",
      "22      1,281,320,814                                0.00  \n",
      "23         66,230,407   2,496,886,343.90             0.03  \n",
      "24        124,195,533   6,209,776,650.00             0.08  \n"
     ]
    }
   ],
   "source": [
    "\n",
    "\n",
    "driver=webdriver.Chrome()\n",
    "\n",
    "driver.get(\"https://www.cse.lk/pages/market-capitalization/market-capitalization.html\")\n",
    "\n",
    "driver.maximize_window()\n",
    "\n",
    "# Wait until the table is present\n",
    "wait = WebDriverWait(driver, 20)  # wait up to 20 seconds\n",
    "table = wait.until(EC.presence_of_element_located((By.XPATH, '//*[@id=\"DataTables_Table_0\"]')))\n",
    "\n",
    "# Extract rows\n",
    "rows = table.find_elements(By.TAG_NAME, \"tr\")\n",
    "data = []\n",
    "for row in rows:\n",
    "    cells = row.find_elements(By.TAG_NAME, \"td\")\n",
    "    if cells:\n",
    "        data.append([cell.text for cell in cells])\n",
    "\n",
    "# Convert to DataFrame\n",
    "df = pd.DataFrame(data, columns=[\n",
    "    \"Company\",\n",
    "    \"Sector\",\n",
    "    \"Market Cap (RsMn)\",\n",
    "    \"Market Cap (US$Mn)\",\n",
    "    \"Last Traded Price\",\n",
    "    \"Number of Shares\"\n",
    "])\n",
    "\n",
    "print(df)\n",
    "driver.quit()"
   ]
  },
  {
   "cell_type": "markdown",
   "id": "d79bfdca",
   "metadata": {},
   "source": [
    "## Covert into CSV and Download the data for sorting ##"
   ]
  },
  {
   "cell_type": "code",
   "execution_count": 15,
   "id": "5b54273b",
   "metadata": {},
   "outputs": [],
   "source": [
    "df.to_csv(\"imported_csv.csv\", index=False)"
   ]
  }
 ],
 "metadata": {
  "kernelspec": {
   "display_name": "Python 3",
   "language": "python",
   "name": "python3"
  },
  "language_info": {
   "codemirror_mode": {
    "name": "ipython",
    "version": 3
   },
   "file_extension": ".py",
   "mimetype": "text/x-python",
   "name": "python",
   "nbconvert_exporter": "python",
   "pygments_lexer": "ipython3",
   "version": "3.13.2"
  }
 },
 "nbformat": 4,
 "nbformat_minor": 5
}

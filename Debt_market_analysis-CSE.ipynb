{
 "cells": [
  {
   "cell_type": "markdown",
   "id": "1aac58aa",
   "metadata": {},
   "source": [
    "\n",
    "## Extract data from CSE website ###"
   ]
  },
  {
   "cell_type": "code",
   "execution_count": 15,
   "id": "817911da",
   "metadata": {},
   "outputs": [
    {
     "name": "stdout",
     "output_type": "stream",
     "text": [
      "<Response [200]>\n"
     ]
    }
   ],
   "source": [
    "# Check the responsiveness of the CSE website\n",
    "\n",
    "import requests\n",
    "\n",
    "url = \"https://www.cse.lk\"\n",
    "response = requests.get(url)\n",
    "print(response)\n"
   ]
  },
  {
   "cell_type": "markdown",
   "id": "df0442aa",
   "metadata": {},
   "source": [
    "## Extract Debt Market Table  ##"
   ]
  },
  {
   "cell_type": "markdown",
   "id": "fa69b4a6",
   "metadata": {},
   "source": [
    "## Method: Extract Debt Market table row by row and save to Excel  ##\n"
   ]
  },
  {
   "cell_type": "code",
   "execution_count": 16,
   "id": "56240a6c",
   "metadata": {},
   "outputs": [
    {
     "name": "stderr",
     "output_type": "stream",
     "text": [
      "ERROR: Invalid requirement: '#install': Expected package name at the start of dependency specifier\n",
      "    #install\n",
      "    ^\n"
     ]
    }
   ],
   "source": [
    "!pip install selenium #install selenium library"
   ]
  },
  {
   "cell_type": "code",
   "execution_count": 17,
   "id": "2c69de37",
   "metadata": {},
   "outputs": [],
   "source": [
    "from selenium import webdriver\n",
    "from selenium.webdriver.common.by import By\n",
    "from selenium.webdriver.support.ui import WebDriverWait, Select\n",
    "from selenium.webdriver.support import expected_conditions as EC\n",
    "import time\n",
    "import pandas as pd"
   ]
  },
  {
   "cell_type": "code",
   "execution_count": 18,
   "id": "fdaf5620",
   "metadata": {},
   "outputs": [
    {
     "name": "stdout",
     "output_type": "stream",
     "text": [
      "    Issuer                          Code Issued Date Maturity Date  \\\n",
      "0     None                          None        None          None   \n",
      "1      AAF    AAF-BD-20/08/26-C2489-9.26    20210820      20260820   \n",
      "2      AAF   AAF-BD-18/12/27-C2557-11.85    20241218      20271218   \n",
      "3      AAF    AAF-BD-18/12/29-C2559-12.6    20241218      20291218   \n",
      "4      AAF         AAF-BD-20/08/26-C2487    20210820      20260820   \n",
      "..     ...                           ...         ...           ...   \n",
      "126   SLTL  SLTL-BD-19/04/28-C2400-12.75    20180419      20280419   \n",
      "127   VFIN  VFIN-BD-22/11/29-C2551-12.95    20241122      20291122   \n",
      "128   VFIN  VFIN-BD-22/11/29-C2552-13.37    20241122      20291122   \n",
      "129    VLL         VLL-BD-23/06/30-C2576    20250624      20300623   \n",
      "130    VLL   VLL-BD-23/06/30-C2575-10.75    20250624      20300623   \n",
      "\n",
      "    Coupon Rate(%) Traded Yield (%) Settlement Board Traded Price (Rs.)  \\\n",
      "0             None             None             None               None   \n",
      "1             9.26                -                -                  -   \n",
      "2            11.85                -                -                  -   \n",
      "3            12.60                -                -                  -   \n",
      "4            12.18                -                -                  -   \n",
      "..             ...              ...              ...                ...   \n",
      "126          12.75                -                -                  -   \n",
      "127          12.95                -                -                  -   \n",
      "128          13.37                -                -                  -   \n",
      "129          10.00                -                -                  -   \n",
      "130          10.75                -                -                  -   \n",
      "\n",
      "    Quantity Issued Par Value Traded Quantity Traded Date  \n",
      "0              None      None            None        None  \n",
      "1         15,500.00      1.00               -              \n",
      "2         66,000.00      1.00               -              \n",
      "3        154,300.00      1.00               -              \n",
      "4      5,637,000.00      1.00               -              \n",
      "..              ...       ...             ...         ...  \n",
      "126   20,760,000.00      1.00               -              \n",
      "127    4,822,400.00      1.00               -              \n",
      "128   25,177,600.00      1.00               -              \n",
      "129    3,817,100.00      1.00               -              \n",
      "130    1,182,900.00      1.00               -              \n",
      "\n",
      "[131 rows x 12 columns]\n"
     ]
    }
   ],
   "source": [
    "# Setup: choose Chrome\n",
    "driver=webdriver.Chrome()\n",
    "\n",
    "#1. Open the Debt Market webpage of CSE \n",
    "driver.get(\"https://www.cse.lk/pages/debt-market/debt-market.component.html?page=debt\")\n",
    "driver.maximize_window()\n",
    "\n",
    "#2. Wait until the table is present\n",
    "wait = WebDriverWait(driver, 20)  # wait up to 20 seconds\n",
    "table = wait.until(EC.presence_of_element_located((By.XPATH, \"//table[@class='data-table']\")))\n",
    "\n",
    "#3. Extract rows\n",
    "rows = table.find_elements(By.TAG_NAME, \"tr\")\n",
    "data = []\n",
    "for row in rows:\n",
    "    cells = row.find_elements(By.TAG_NAME, \"td\")\n",
    "    data.append([cell.text for cell in cells])\n",
    "\n",
    "#4. Convert to DataFrame\n",
    "df = pd.DataFrame(data, columns=[\n",
    "    \"Issuer\",\n",
    "    \"Code\",\n",
    "    \"Issued Date\",\n",
    "    \"Maturity Date\",\n",
    "    \"Coupon Rate(%)\",\n",
    "    \"Traded Yield (%)\",\n",
    "    \"Settlement Board\",\n",
    "    \"Traded Price (Rs.)\",\n",
    "    \"Quantity Issued\",\n",
    "    \"Par Value\",\n",
    "    \"Traded Quantity\",\n",
    "    \"Traded Date\"\n",
    "])\n",
    "\n",
    "print(df)\n",
    "driver.quit()\n",
    "\n",
    "df.to_excel(\"Debt Maket.xlsx\", index=False)"
   ]
  },
  {
   "cell_type": "markdown",
   "id": "801cd683",
   "metadata": {},
   "source": [
    "## Alternative: Download the Excel file directly from CSE Debt Market webpage  ##"
   ]
  },
  {
   "cell_type": "code",
   "execution_count": 23,
   "id": "28d6e84f",
   "metadata": {},
   "outputs": [
    {
     "name": "stdout",
     "output_type": "stream",
     "text": [
      "The Debt Market Excel file is downloaded.\n"
     ]
    }
   ],
   "source": [
    "# Setup: choose Chrome (make sure chromedriver is installed)\n",
    "driver = webdriver.Chrome()\n",
    "\n",
    "# 1. Open CSE website\n",
    "driver.get(\"https://www.cse.lk\")\n",
    "driver.maximize_window()\n",
    "\n",
    "# 2. Click the \"Market\" dropdown\n",
    "dropdown_toggle = WebDriverWait(driver, 10).until(\n",
    "    EC.element_to_be_clickable((By.CSS_SELECTOR, \"a.dropdown-toggle[data-toggle='dropdown']\")))\n",
    "dropdown_toggle.click()\n",
    "\n",
    "#3. Click \"Debt Market\" option from the dropdown\n",
    "debt_market_elem = WebDriverWait(driver, 10).until(\n",
    "    EC.element_to_be_clickable((By.XPATH, \"//a[normalize-space(text())='Debt Market']\")))\n",
    "debt_market_elem.click()\n",
    "\n",
    "# 4. Click the \"Download\" dropdown from the Debt Market webpage\n",
    "dropdown_button = WebDriverWait(driver, 10).until(\n",
    "    EC.element_to_be_clickable((By.XPATH, \"//button[@id='dropdownMenu2']\")))\n",
    "dropdown_button.click()\n",
    "\n",
    "#5. Download the Excel file of the Debt Market\n",
    "excel_elem = WebDriverWait(driver, 10).until(\n",
    "    EC.element_to_be_clickable((By.XPATH, \"//a[normalize-space(text())='XLS']\")))\n",
    "excel_elem.click()\n",
    "\n",
    "#6. The Confirmation message\n",
    "print(\"The Debt Market Excel file is downloaded.\")\n",
    "\n",
    "driver.quit()\n"
   ]
  },
  {
   "cell_type": "code",
   "execution_count": null,
   "id": "be960047",
   "metadata": {},
   "outputs": [],
   "source": []
  }
 ],
 "metadata": {
  "kernelspec": {
   "display_name": "Python 3",
   "language": "python",
   "name": "python3"
  },
  "language_info": {
   "codemirror_mode": {
    "name": "ipython",
    "version": 3
   },
   "file_extension": ".py",
   "mimetype": "text/x-python",
   "name": "python",
   "nbconvert_exporter": "python",
   "pygments_lexer": "ipython3",
   "version": "3.13.1"
  }
 },
 "nbformat": 4,
 "nbformat_minor": 5
}

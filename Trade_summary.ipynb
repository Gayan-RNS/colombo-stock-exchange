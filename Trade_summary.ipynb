{
 "cells": [
  {
   "cell_type": "markdown",
   "id": "36d35748",
   "metadata": {},
   "source": [
    "### Extracting Colombo Stock Exchange market summary details ###\n",
    "\n"
   ]
  },
  {
   "cell_type": "code",
   "execution_count": 6,
   "id": "817911da",
   "metadata": {},
   "outputs": [
    {
     "name": "stdout",
     "output_type": "stream",
     "text": [
      "Status Code: <Response [200]>\n"
     ]
    }
   ],
   "source": [
    "import requests\n",
    "\n",
    "url = \"https://www.cse.lk\"\n",
    "response = requests.get(url)\n",
    "print(f\"Status Code: {response}\")\n"
   ]
  },
  {
   "cell_type": "code",
   "execution_count": null,
   "id": "49c127fe",
   "metadata": {},
   "outputs": [
    {
     "name": "stdout",
     "output_type": "stream",
     "text": [
      "Extracted content: CSE-Colombo Stock Exchange\n"
     ]
    }
   ],
   "source": [
    "import requests\n",
    "from bs4 import BeautifulSoup\n",
    "\n",
    "url = \"https://www.cse.lk\"\n",
    "response = requests.get(url)\n",
    "soup = BeautifulSoup(response.content, 'html.parser')\n",
    "print(f\"Extracted content: {soup.title.string}\")\n",
    "\n",
    "\n"
   ]
  },
  {
   "cell_type": "markdown",
   "id": "df0442aa",
   "metadata": {},
   "source": [
    "## Extract market share data ##"
   ]
  },
  {
   "cell_type": "code",
   "execution_count": 10,
   "id": "2c69de37",
   "metadata": {},
   "outputs": [],
   "source": [
    "from selenium import webdriver\n",
    "from selenium.webdriver.common.by import By\n",
    "from selenium.webdriver.support.ui import WebDriverWait, Select\n",
    "from selenium.webdriver.support import expected_conditions as EC\n",
    "import time\n",
    "import pandas as pd"
   ]
  },
  {
   "cell_type": "code",
   "execution_count": null,
   "id": "fdaf5620",
   "metadata": {},
   "outputs": [
    {
     "name": "stdout",
     "output_type": "stream",
     "text": [
      "                        Company Name      Symbol Share Volume Trade Volume  \\\n",
      "0              ABANS ELECTRICALS PLC  ABAN.N0000        3,337           44   \n",
      "1                  ABANS FINANCE PLC  AFSL.N0000        1,385           11   \n",
      "2             ACCESS ENGINEERING PLC   AEL.N0000      901,169          268   \n",
      "3                     ACL CABLES PLC   ACL.N0000      399,082          211   \n",
      "4                   ACL PLASTICS PLC  APLA.N0000       12,479           83   \n",
      "5      ACME PRINTING & PACKAGING PLC  ACME.N0000       25,982           36   \n",
      "6         AGALAWATTE PLANTATIONS PLC  AGAL.N0000       27,260           26   \n",
      "7        Agarapatana Plantations PLC  AGPL.N0000      148,104           77   \n",
      "8                         AGSTAR PLC  AGST.N0000      607,544          142   \n",
      "9                         AGSTAR PLC  AGST.X0000        3,897           16   \n",
      "10  AITKEN SPENCE HOTEL HOLDINGS PLC  AHUN.N0000      885,607          248   \n",
      "11                 AITKEN SPENCE PLC  SPEN.N0000      104,717           70   \n",
      "12      ALLIANCE FINANCE COMPANY PLC  ALLI.N0000        2,729           26   \n",
      "13           ALPHA FIRE SERVICES PLC   AFS.N0000       27,196           23   \n",
      "14                        ALUMEX PLC  ALUM.N0000    4,466,051          845   \n",
      "15                    AMANA BANK PLC   ABL.N0000      172,093          198   \n",
      "16            AMANA TAKAFUL LIFE PLC  ATLL.N0000          219            8   \n",
      "17                 AMANA TAKAFUL PLC   ATL.N0000       21,171           29   \n",
      "18                AMBEON CAPITAL PLC   TAP.N0000      271,728           69   \n",
      "19               AMBEON HOLDINGS PLC  GREG.N0000        7,278           19   \n",
      "20              ARPICO INSURANCE PLC  AINS.N0000        2,461           18   \n",
      "21            ASIA ASSET FINANCE PLC   AAF.N0000    1,911,227          649   \n",
      "22                  ASIA CAPITAL PLC  ACAP.N0000       31,059           28   \n",
      "23   ASIA SIYAKA COMMODITIES LIMITED  ASIY.N0000      935,549          139   \n",
      "24   ASIAN HOTELS AND PROPERTIES PLC  AHPL.N0000       14,298           13   \n",
      "\n",
      "   Previous close (Rs) Open (Rs) High (Rs)  Low (Rs) Last Traded Price (Rs)  \\\n",
      "0             1,015.75  1,017.00  1,045.00  1,017.00               1,036.25   \n",
      "1                68.30     69.90     69.90     68.00                  69.40   \n",
      "2                62.10     62.50     62.80     61.80                  62.00   \n",
      "3               202.00    202.00    202.75    199.00                 202.00   \n",
      "4             1,197.75  1,160.25  1,200.00  1,100.00               1,114.25   \n",
      "5                 7.00      7.20      7.20      6.90                   7.00   \n",
      "6                61.00     61.40     61.40     60.60                  60.70   \n",
      "7                22.50     22.50     22.90     22.10                  22.30   \n",
      "8                 9.10      9.20      9.20      9.00                   9.00   \n",
      "9                10.00     10.10     11.60     10.10                  10.90   \n",
      "10              120.00    121.75    122.50    120.00                 122.00   \n",
      "11              159.75    161.75    161.75    160.00                 160.75   \n",
      "12              372.75    374.00    374.75    368.00                 369.75   \n",
      "13               27.70     27.50     28.70     27.30                  27.50   \n",
      "14               21.00     20.80     21.10     20.50                  20.60   \n",
      "15               28.00     28.30     28.30     27.90                  28.00   \n",
      "16               48.50     49.90     49.90     48.50                  49.70   \n",
      "17               23.50     23.20     23.20     22.00                  22.70   \n",
      "18               31.00     30.80     31.50     30.20                  30.50   \n",
      "19              121.50    118.00    121.75    115.25                 120.00   \n",
      "20               35.70     37.40     37.50     35.80                  35.90   \n",
      "21               57.90     58.00     61.90     57.70                  60.70   \n",
      "22                4.90      4.90      4.90      4.70                   4.70   \n",
      "23                9.50      9.80      9.80      9.20                   9.20   \n",
      "24               68.70     67.00     68.70     66.70                  67.50   \n",
      "\n",
      "   Change (Rs) Change (%)  \n",
      "0        20.50       2.02  \n",
      "1         1.10       1.61  \n",
      "2        -0.10      -0.16  \n",
      "3         0.00       0.00  \n",
      "4       -83.50      -6.97  \n",
      "5         0.00       0.00  \n",
      "6        -0.30      -0.49  \n",
      "7        -0.20      -0.89  \n",
      "8        -0.10      -1.10  \n",
      "9         0.90       9.00  \n",
      "10        2.00       1.67  \n",
      "11        1.00       0.63  \n",
      "12       -3.00      -0.80  \n",
      "13       -0.20      -0.72  \n",
      "14       -0.40      -1.90  \n",
      "15        0.00       0.00  \n",
      "16        1.20       2.47  \n",
      "17       -0.80      -3.40  \n",
      "18       -0.50      -1.61  \n",
      "19       -1.50      -1.23  \n",
      "20        0.20       0.56  \n",
      "21        2.80       4.84  \n",
      "22       -0.20      -4.08  \n",
      "23       -0.30      -3.16  \n",
      "24       -1.20      -1.75  \n"
     ]
    }
   ],
   "source": [
    "driver=webdriver.Chrome()\n",
    "\n",
    "driver.get(\"https://www.cse.lk/pages/trade-summary/trade-summary.component.html\")\n",
    "\n",
    "driver.maximize_window()\n",
    "\n",
    "wait = WebDriverWait(driver, 10)\n",
    "table = wait.until(EC.presence_of_element_located((By.XPATH, '//*[@id=\"DataTables_Table_0\"]')))\n",
    "\n",
    "# Extract rows\n",
    "rows = table.find_elements(By.TAG_NAME, \"tr\")\n",
    "data = []\n",
    "for row in rows:\n",
    "    cells = row.find_elements(By.TAG_NAME, \"td\")\n",
    "    if cells:\n",
    "        data.append([cell.text for cell in cells])\n",
    "\n",
    "# Convert to DataFrame\n",
    "df = pd.DataFrame(data, columns=[\n",
    "    \"Company Name\",\n",
    "    \"Symbol\",\n",
    "    \"Share Volume\",\n",
    "    \"Trade Volume\",\n",
    "    \"Previous close (Rs)\",\n",
    "    \"Open (Rs)\",\n",
    "    \"High (Rs)\",\n",
    "    \"Low (Rs)\",\n",
    "    \"Last Traded Price (Rs)\",\n",
    "    \"Change (Rs)\",\n",
    "    \"Change (%)\"\n",
    "    \n",
    "])\n",
    "\n",
    "print(df)"
   ]
  },
  {
   "cell_type": "code",
   "execution_count": 19,
   "id": "a299e379",
   "metadata": {},
   "outputs": [],
   "source": [
    "df.to_csv(\"trade_summary_file.csv\", index=False)"
   ]
  },
  {
   "cell_type": "code",
   "execution_count": null,
   "id": "370bc61c",
   "metadata": {},
   "outputs": [
    {
     "name": "stdout",
     "output_type": "stream",
     "text": [
      "No table found in the HTML\n"
     ]
    }
   ],
   "source": [
    "from bs4 import BeautifulSoup\n",
    "\n",
    "soup = BeautifulSoup(response.text, \"lxml\")\n",
    "table = soup.find(\"table\")\n",
    "\n",
    "if table is not None:\n",
    "    headers = [th.get_text(strip=True) for th in table.find_all(\"th\")]\n",
    "    rows = []\n",
    "    for tr in table.find_all(\"tr\"):\n",
    "        \n",
    "        pass\n",
    "else:\n",
    "    print(\"No table found in the HTML\")\n",
    "    \n",
    "    headers = []\n",
    "    rows = []"
   ]
  },
  {
   "cell_type": "code",
   "execution_count": null,
   "id": "fa003c4b",
   "metadata": {},
   "outputs": [
    {
     "name": "stdout",
     "output_type": "stream",
     "text": [
      "No tables found\n"
     ]
    }
   ],
   "source": [
    "tables = soup.find_all(\"table\")\n",
    "if tables:\n",
    "    table = tables[0]  \n",
    "    \n",
    "else:\n",
    "    print(\"No tables found\")"
   ]
  },
  {
   "cell_type": "markdown",
   "id": "66515e77",
   "metadata": {},
   "source": [
    "## Extract Annual Report Data using PyPDF2 ##"
   ]
  },
  {
   "cell_type": "markdown",
   "id": "09378b8f",
   "metadata": {},
   "source": [
    "# (Ex: Greentech Energy - 2025 Annual Report #)"
   ]
  },
  {
   "cell_type": "code",
   "execution_count": 8,
   "id": "d89889f3",
   "metadata": {},
   "outputs": [
    {
     "name": "stdout",
     "output_type": "stream",
     "text": [
      "             GREENTECH ENERGY P L C  \n",
      " \n",
      " \n",
      "ANNUAL REPORT 2024 / 2025     5 \n",
      " \n",
      " \n",
      " Chairman’s Review  \n",
      "On behalf of the Board of Directors, I have pleasure in presenting you the Annual Report and the \n",
      "Audited Accounts of the Company for the year ended 31st March 2025.  \n",
      "The global renewable energy sector is experiencing robust growth, mainly driven by solar and wind \n",
      "power, with global renewable electricity generation projected to nearly double by 2030. This \n",
      "expansion is critical for reducing carbon emissions, with forecas ts showing renewables meeting almost \n",
      "half the world's electricity demand by the decade's end.  Key trends include tripling solar PV capacity, \n",
      "almost doubling wind capacity, increased demand for renewable fuels in transport, and a growing \n",
      "market value, thoug h challenges remain in regions with high investment needs in developing \n",
      "countries.Sri Lanka’s commitment to renewable energy is a strategic imperative, with advancements \n",
      "in solar, wind, hydro, and biomass crucial for securing a stable, sustainable power su pply and \n",
      "achieving national energy goals . \n",
      "Although the Company navigated a mixed operating environment and was impacted by significant \n",
      "economic challenges prevailing in the Country last year, the Company delivered a modest \n",
      "improvement in profitability for the year. The positive trend in the macroe conomic environment over \n",
      "the next year will provide substantial opportunity in the emerging energy market, and the management \n",
      "team is working towards capitalizing on these opportunities, in line with the Government’s target of \n",
      "achieving 70% renewable energ y generation by 2030. Therefore, notwithstanding the challenges of \n",
      "the preceding year, we are confident of positive growth in the year ahead.  \n",
      "The Company remains optimistic that selective investment and disciplined execution will position \n",
      "Greentech Energy Plc to capture growth opportunities in Sri Lanka’s evolving energy landscape. In \n",
      "this context the Company has continued to make substantial pr ogress in discussions towards \n",
      "establishing collaborative and strategic  partnerships to add value in terms of technical and financial \n",
      "investments, which will in turn generate sustainable cashflows and greatly enhance shareholder value \n",
      "in the future.  \n",
      "My sincere thanks to the Management Team and employees, for their dedication and commitment. I \n",
      "also convey my appreciation to my colleagues on the Board for their ready support and co -operation \n",
      "at all times, and to all our stakeholders who have stood by us  during this year.  \n",
      " \n",
      " \n",
      "Dr. C.N.A. Nonis  \n",
      "Chairman  \n",
      " \n",
      " \n",
      " \n",
      " \n",
      " \n",
      " \n",
      " \n",
      " \n",
      "\n"
     ]
    }
   ],
   "source": [
    "from PyPDF2 import PdfReader\n",
    "reader = PdfReader(\"pdfs/Greentech Energy - Annual report.pdf\")\n",
    "page = reader.pages[5]\n",
    "text = page.extract_text()\n",
    "print(text)                 "
   ]
  },
  {
   "cell_type": "markdown",
   "id": "532c3a86",
   "metadata": {},
   "source": [
    "## Ex: Asia Capital PLC - Annual Report 2025 ##"
   ]
  },
  {
   "cell_type": "code",
   "execution_count": 13,
   "id": "32b5bea4",
   "metadata": {},
   "outputs": [
    {
     "name": "stdout",
     "output_type": "stream",
     "text": [
      "ASIA CAPITAL PLC | Annual Report   2024/202513\n",
      "MR. V. SIVA JR.\n",
      "Director\n",
      "Mr. Siva is the Managing Partner of a \n",
      "boutique corporate finance firm based in \n",
      "Kuala Lumpur which he founded in 2005. \n",
      "The firm specialises in structuring large \n",
      "project financing deals and cross border \n",
      "financing. The firm also collaborates \n",
      "closely with regional private equity firms \n",
      "in securing bridge financing. He also has \n",
      "vast experience in Strategic Consulting \n",
      "with past engagements with many large \n",
      "conglomerates in Kuala Lumpur and \n",
      "Indonesia. He was also the former Group \n",
      "Corporate Planner of a public listed \n",
      "company on the Kuala Lumpur Stock \n",
      "Exchange.\n",
      "He also served as Group Finance Director \n",
      "of a large oil palm plantation group in \n",
      "Malaysia. Mr. Siva Jr., formerly from \n",
      "Arthur Andersen & Co., Malaysia, has vast \n",
      "experience in corporate finance, strategy \n",
      "and performance management (balance \n",
      "scorecards) and capital markets. He holds a \n",
      "Bachelor of Accounting (Hons) degree from \n",
      "University Utara Malaysia and The Certified \n",
      "Public Accountant (CPA) qualification from \n",
      "the Malaysian Institute of Certified Public \n",
      "Accountants (MICPA).MR. S.A. ABEYESINHE\n",
      "Director\n",
      "Mr. Abeyesinhe is a Director for Asia \n",
      "Capital PLC and also serves on the Boards \n",
      "of other subsidiaries of the Group.\n",
      "He pursued his higher studies in both the \n",
      "United States and the United Kingdom \n",
      "after which he worked in financial markets \n",
      "in London. On his return to Sri Lanka he \n",
      "joined PricewaterhouseCoopers prior to \n",
      "joining Asia Capital PLC in June 2009. \n",
      "Mr. Abeyesinhe is a graduate of Harvard \n",
      "Business School.MR. STEVENSON CHARLES\n",
      "Director\n",
      "Mr. Stevenson claims a remarkable 21-\n",
      "year tenure with International Group, \n",
      "where he presently assumes the role of \n",
      "Head of Internal Audit for the said Group. \n",
      "His breadth of experience spans diverse \n",
      "domains such as Business Strategy, \n",
      "Planning, Strategic Development, and \n",
      "more. With two decades entrenched in \n",
      "finance and accounting, Mr. Stevenson has \n",
      "navigated both public listed and private \n",
      "entities with finesse. Noteworthy among \n",
      "his past roles on different companies in \n",
      "different capacities such as Managing \n",
      "Director, Deputy Regional Director, \n",
      "Regional General Manager, and General \n",
      "Manager.\n",
      "\n"
     ]
    }
   ],
   "source": [
    "from PyPDF2 import PdfReader\n",
    "reader = PdfReader(\"pdfs/Asia_Capital_PLC_2025.pdf\")\n",
    "page = reader.pages[14]\n",
    "text = page.extract_text()\n",
    "print(text)"
   ]
  },
  {
   "cell_type": "markdown",
   "id": "614d9f10",
   "metadata": {},
   "source": [
    "## Remove Headers/ Footers from the extracted data - Ex: Asia Capital PLC - Annual Report 2025 ##"
   ]
  },
  {
   "cell_type": "code",
   "execution_count": 15,
   "id": "35e33214",
   "metadata": {},
   "outputs": [
    {
     "name": "stdout",
     "output_type": "stream",
     "text": [
      "MR. V. SIVA JR.\n",
      "Director\n",
      "Mr. Siva is the Managing Partner of a \n",
      "boutique corporate finance firm based in \n",
      "Kuala Lumpur which he founded in 2005. \n",
      "The firm specialises in structuring large \n",
      "project financing deals and cross border \n",
      "financing. The firm also collaborates \n",
      "closely with regional private equity firms \n",
      "in securing bridge financing. He also has \n",
      "vast experience in Strategic Consulting \n",
      "with past engagements with many large \n",
      "conglomerates in Kuala Lumpur and \n",
      "Indonesia. He was also the former Group \n",
      "Corporate Planner of a public listed \n",
      "company on the Kuala Lumpur Stock \n",
      "Exchange.\n",
      "He also served as Group Finance Director \n",
      "of a large oil palm plantation group in \n",
      "Malaysia. Mr. Siva Jr., formerly from \n",
      "Arthur Andersen & Co., Malaysia, has vast \n",
      "experience in corporate finance, strategy \n",
      "and performance management (balance \n",
      "scorecards) and capital markets. He holds a \n",
      "Bachelor of Accounting (Hons) degree from \n",
      "University Utara Malaysia and The Certified \n",
      "Public Accountant (CPA) qualification from \n",
      "the Malaysian Institute of Certified Public \n",
      "Accountants (MICPA).MR. S.A. ABEYESINHE\n",
      "Director\n",
      "Mr. Abeyesinhe is a Director for Asia \n",
      "Capital PLC and also serves on the Boards \n",
      "of other subsidiaries of the Group.\n",
      "He pursued his higher studies in both the \n",
      "United States and the United Kingdom \n",
      "after which he worked in financial markets \n",
      "in London. On his return to Sri Lanka he \n",
      "joined PricewaterhouseCoopers prior to \n",
      "joining Asia Capital PLC in June 2009. \n",
      "Mr. Abeyesinhe is a graduate of Harvard \n",
      "Business School.MR. STEVENSON CHARLES\n",
      "Director\n",
      "Mr. Stevenson claims a remarkable 21-\n",
      "year tenure with International Group, \n",
      "where he presently assumes the role of \n",
      "Head of Internal Audit for the said Group. \n",
      "His breadth of experience spans diverse \n",
      "domains such as Business Strategy, \n",
      "Planning, Strategic Development, and \n",
      "more. With two decades entrenched in \n",
      "finance and accounting, Mr. Stevenson has \n",
      "navigated both public listed and private \n",
      "entities with finesse. Noteworthy among \n",
      "his past roles on different companies in \n",
      "different capacities such as Managing \n",
      "Director, Deputy Regional Director, \n",
      "Regional General Manager, and General \n",
      "Manager.\n",
      "\n"
     ]
    }
   ],
   "source": [
    "from PyPDF2 import PdfReader\n",
    "reader = PdfReader(\"pdfs/Asia_Capital_PLC_2025.pdf\")\n",
    "page = reader.pages[14]\n",
    "\n",
    "parts = []\n",
    "\n",
    "def visitor_body(text, cm, tm, fontDict, fontSize):\n",
    "    y = tm[5]\n",
    "    if y > 50 and y < 720:\n",
    "        parts.append(text)\n",
    "page.extract_text(visitor_text=visitor_body)\n",
    "text_body = \"\".join(parts)\n",
    "\n",
    "print(text_body)\n",
    "\n"
   ]
  }
 ],
 "metadata": {
  "kernelspec": {
   "display_name": "Python 3",
   "language": "python",
   "name": "python3"
  },
  "language_info": {
   "codemirror_mode": {
    "name": "ipython",
    "version": 3
   },
   "file_extension": ".py",
   "mimetype": "text/x-python",
   "name": "python",
   "nbconvert_exporter": "python",
   "pygments_lexer": "ipython3",
   "version": "3.13.5"
  }
 },
 "nbformat": 4,
 "nbformat_minor": 5
}

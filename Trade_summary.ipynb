{
 "cells": [
  {
   "cell_type": "markdown",
   "id": "36d35748",
   "metadata": {},
   "source": [
    "### Extracting Colombo Stock Exchange market summary details ###\n",
    "\n"
   ]
  },
  {
   "cell_type": "code",
   "execution_count": 6,
   "id": "817911da",
   "metadata": {},
   "outputs": [
    {
     "name": "stdout",
     "output_type": "stream",
     "text": [
      "Status Code: <Response [200]>\n"
     ]
    }
   ],
   "source": [
    "import requests\n",
    "\n",
    "url = \"https://www.cse.lk\"\n",
    "response = requests.get(url)\n",
    "print(f\"Status Code: {response}\")\n"
   ]
  },
  {
   "cell_type": "code",
   "execution_count": null,
   "id": "49c127fe",
   "metadata": {},
   "outputs": [
    {
     "name": "stdout",
     "output_type": "stream",
     "text": [
      "Extracted content: CSE-Colombo Stock Exchange\n"
     ]
    }
   ],
   "source": [
    "import requests\n",
    "from bs4 import BeautifulSoup\n",
    "\n",
    "url = \"https://www.cse.lk\"\n",
    "response = requests.get(url)\n",
    "soup = BeautifulSoup(response.content, 'html.parser')\n",
    "print(f\"Extracted content: {soup.title.string}\")\n",
    "\n",
    "\n"
   ]
  },
  {
   "cell_type": "code",
   "execution_count": 10,
   "id": "2c69de37",
   "metadata": {},
   "outputs": [],
   "source": [
    "from selenium import webdriver\n",
    "from selenium.webdriver.common.by import By\n",
    "from selenium.webdriver.support.ui import WebDriverWait, Select\n",
    "from selenium.webdriver.support import expected_conditions as EC\n",
    "import time\n",
    "import pandas as pd"
   ]
  },
  {
   "cell_type": "code",
   "execution_count": null,
   "id": "fdaf5620",
   "metadata": {},
   "outputs": [
    {
     "name": "stdout",
     "output_type": "stream",
     "text": [
      "                        Company Name      Symbol Share Volume Trade Volume  \\\n",
      "0              ABANS ELECTRICALS PLC  ABAN.N0000        3,337           44   \n",
      "1                  ABANS FINANCE PLC  AFSL.N0000        1,385           11   \n",
      "2             ACCESS ENGINEERING PLC   AEL.N0000      901,169          268   \n",
      "3                     ACL CABLES PLC   ACL.N0000      399,082          211   \n",
      "4                   ACL PLASTICS PLC  APLA.N0000       12,479           83   \n",
      "5      ACME PRINTING & PACKAGING PLC  ACME.N0000       25,982           36   \n",
      "6         AGALAWATTE PLANTATIONS PLC  AGAL.N0000       27,260           26   \n",
      "7        Agarapatana Plantations PLC  AGPL.N0000      148,104           77   \n",
      "8                         AGSTAR PLC  AGST.N0000      607,544          142   \n",
      "9                         AGSTAR PLC  AGST.X0000        3,897           16   \n",
      "10  AITKEN SPENCE HOTEL HOLDINGS PLC  AHUN.N0000      885,607          248   \n",
      "11                 AITKEN SPENCE PLC  SPEN.N0000      104,717           70   \n",
      "12      ALLIANCE FINANCE COMPANY PLC  ALLI.N0000        2,729           26   \n",
      "13           ALPHA FIRE SERVICES PLC   AFS.N0000       27,196           23   \n",
      "14                        ALUMEX PLC  ALUM.N0000    4,466,051          845   \n",
      "15                    AMANA BANK PLC   ABL.N0000      172,093          198   \n",
      "16            AMANA TAKAFUL LIFE PLC  ATLL.N0000          219            8   \n",
      "17                 AMANA TAKAFUL PLC   ATL.N0000       21,171           29   \n",
      "18                AMBEON CAPITAL PLC   TAP.N0000      271,728           69   \n",
      "19               AMBEON HOLDINGS PLC  GREG.N0000        7,278           19   \n",
      "20              ARPICO INSURANCE PLC  AINS.N0000        2,461           18   \n",
      "21            ASIA ASSET FINANCE PLC   AAF.N0000    1,911,227          649   \n",
      "22                  ASIA CAPITAL PLC  ACAP.N0000       31,059           28   \n",
      "23   ASIA SIYAKA COMMODITIES LIMITED  ASIY.N0000      935,549          139   \n",
      "24   ASIAN HOTELS AND PROPERTIES PLC  AHPL.N0000       14,298           13   \n",
      "\n",
      "   Previous close (Rs) Open (Rs) High (Rs)  Low (Rs) Last Traded Price (Rs)  \\\n",
      "0             1,015.75  1,017.00  1,045.00  1,017.00               1,036.25   \n",
      "1                68.30     69.90     69.90     68.00                  69.40   \n",
      "2                62.10     62.50     62.80     61.80                  62.00   \n",
      "3               202.00    202.00    202.75    199.00                 202.00   \n",
      "4             1,197.75  1,160.25  1,200.00  1,100.00               1,114.25   \n",
      "5                 7.00      7.20      7.20      6.90                   7.00   \n",
      "6                61.00     61.40     61.40     60.60                  60.70   \n",
      "7                22.50     22.50     22.90     22.10                  22.30   \n",
      "8                 9.10      9.20      9.20      9.00                   9.00   \n",
      "9                10.00     10.10     11.60     10.10                  10.90   \n",
      "10              120.00    121.75    122.50    120.00                 122.00   \n",
      "11              159.75    161.75    161.75    160.00                 160.75   \n",
      "12              372.75    374.00    374.75    368.00                 369.75   \n",
      "13               27.70     27.50     28.70     27.30                  27.50   \n",
      "14               21.00     20.80     21.10     20.50                  20.60   \n",
      "15               28.00     28.30     28.30     27.90                  28.00   \n",
      "16               48.50     49.90     49.90     48.50                  49.70   \n",
      "17               23.50     23.20     23.20     22.00                  22.70   \n",
      "18               31.00     30.80     31.50     30.20                  30.50   \n",
      "19              121.50    118.00    121.75    115.25                 120.00   \n",
      "20               35.70     37.40     37.50     35.80                  35.90   \n",
      "21               57.90     58.00     61.90     57.70                  60.70   \n",
      "22                4.90      4.90      4.90      4.70                   4.70   \n",
      "23                9.50      9.80      9.80      9.20                   9.20   \n",
      "24               68.70     67.00     68.70     66.70                  67.50   \n",
      "\n",
      "   Change (Rs) Change (%)  \n",
      "0        20.50       2.02  \n",
      "1         1.10       1.61  \n",
      "2        -0.10      -0.16  \n",
      "3         0.00       0.00  \n",
      "4       -83.50      -6.97  \n",
      "5         0.00       0.00  \n",
      "6        -0.30      -0.49  \n",
      "7        -0.20      -0.89  \n",
      "8        -0.10      -1.10  \n",
      "9         0.90       9.00  \n",
      "10        2.00       1.67  \n",
      "11        1.00       0.63  \n",
      "12       -3.00      -0.80  \n",
      "13       -0.20      -0.72  \n",
      "14       -0.40      -1.90  \n",
      "15        0.00       0.00  \n",
      "16        1.20       2.47  \n",
      "17       -0.80      -3.40  \n",
      "18       -0.50      -1.61  \n",
      "19       -1.50      -1.23  \n",
      "20        0.20       0.56  \n",
      "21        2.80       4.84  \n",
      "22       -0.20      -4.08  \n",
      "23       -0.30      -3.16  \n",
      "24       -1.20      -1.75  \n"
     ]
    }
   ],
   "source": [
    "driver=webdriver.Chrome()\n",
    "\n",
    "driver.get(\"https://www.cse.lk/pages/trade-summary/trade-summary.component.html\")\n",
    "\n",
    "driver.maximize_window()\n",
    "\n",
    "wait = WebDriverWait(driver, 10)\n",
    "table = wait.until(EC.presence_of_element_located((By.XPATH, '//*[@id=\"DataTables_Table_0\"]')))\n",
    "\n",
    "# Extract rows\n",
    "rows = table.find_elements(By.TAG_NAME, \"tr\")\n",
    "data = []\n",
    "for row in rows:\n",
    "    cells = row.find_elements(By.TAG_NAME, \"td\")\n",
    "    if cells:\n",
    "        data.append([cell.text for cell in cells])\n",
    "\n",
    "# Convert to DataFrame\n",
    "df = pd.DataFrame(data, columns=[\n",
    "    \"Company Name\",\n",
    "    \"Symbol\",\n",
    "    \"Share Volume\",\n",
    "    \"Trade Volume\",\n",
    "    \"Previous close (Rs)\",\n",
    "    \"Open (Rs)\",\n",
    "    \"High (Rs)\",\n",
    "    \"Low (Rs)\",\n",
    "    \"Last Traded Price (Rs)\",\n",
    "    \"Change (Rs)\",\n",
    "    \"Change (%)\"\n",
    "    \n",
    "])\n",
    "\n",
    "print(df)"
   ]
  },
  {
   "cell_type": "code",
   "execution_count": 19,
   "id": "a299e379",
   "metadata": {},
   "outputs": [],
   "source": [
    "df.to_csv(\"trade_summary_file.csv\", index=False)"
   ]
  },
  {
   "cell_type": "code",
   "execution_count": 4,
   "id": "370bc61c",
   "metadata": {},
   "outputs": [
    {
     "name": "stdout",
     "output_type": "stream",
     "text": [
      "No table found in the HTML\n"
     ]
    }
   ],
   "source": [
    "from bs4 import BeautifulSoup\n",
    "\n",
    "# Your existing code\n",
    "soup = BeautifulSoup(response.text, \"lxml\")\n",
    "table = soup.find(\"table\")\n",
    "\n",
    "# Add a check to ensure the table exists\n",
    "if table is not None:\n",
    "    headers = [th.get_text(strip=True) for th in table.find_all(\"th\")]\n",
    "    rows = []\n",
    "    for tr in table.find_all(\"tr\"):\n",
    "        # Your row processing code here\n",
    "        pass\n",
    "else:\n",
    "    print(\"No table found in the HTML\")\n",
    "    # Handle the case where no table exists\n",
    "    headers = []\n",
    "    rows = []"
   ]
  },
  {
   "cell_type": "code",
   "execution_count": 5,
   "id": "fa003c4b",
   "metadata": {},
   "outputs": [
    {
     "name": "stdout",
     "output_type": "stream",
     "text": [
      "No tables found\n"
     ]
    }
   ],
   "source": [
    "tables = soup.find_all(\"table\")\n",
    "if tables:\n",
    "    table = tables[0]  # Use the first table\n",
    "    # Your processing code\n",
    "else:\n",
    "    print(\"No tables found\")"
   ]
  }
 ],
 "metadata": {
  "kernelspec": {
   "display_name": "Python 3",
   "language": "python",
   "name": "python3"
  },
  "language_info": {
   "codemirror_mode": {
    "name": "ipython",
    "version": 3
   },
   "file_extension": ".py",
   "mimetype": "text/x-python",
   "name": "python",
   "nbconvert_exporter": "python",
   "pygments_lexer": "ipython3",
   "version": "3.13.5"
  }
 },
 "nbformat": 4,
 "nbformat_minor": 5
}
